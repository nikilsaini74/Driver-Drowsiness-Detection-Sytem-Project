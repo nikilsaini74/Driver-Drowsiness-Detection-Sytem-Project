{
 "cells": [
  {
   "cell_type": "code",
   "execution_count": null,
   "id": "092e5a1d",
   "metadata": {},
   "outputs": [],
   "source": [
    "# pip install tensorflow"
   ]
  },
  {
   "cell_type": "code",
   "execution_count": null,
   "id": "d82feadd",
   "metadata": {},
   "outputs": [],
   "source": [
    "import tensorflow as tf\n",
    "from keras.preprocessing.image import ImageDataGenerator"
   ]
  },
  {
   "cell_type": "code",
   "execution_count": null,
   "id": "97922e6e",
   "metadata": {},
   "outputs": [],
   "source": [
    "tf.__version__"
   ]
  },
  {
   "cell_type": "markdown",
   "id": "3cd558a2",
   "metadata": {},
   "source": [
    "# Part 1 - Data Preprocessing"
   ]
  },
  {
   "cell_type": "markdown",
   "id": "aed27634",
   "metadata": {},
   "source": [
    "## Preprocessing the training set"
   ]
  },
  {
   "cell_type": "code",
   "execution_count": null,
   "id": "fc90805a",
   "metadata": {},
   "outputs": [],
   "source": [
    "training_datagen = ImageDataGenerator(\n",
    "                    rescale = 1./255,\n",
    "                    shear_range = 0.2,\n",
    "                    zoom_range = 0.2,\n",
    "                    horizontal_flip = True)\n",
    "training_set = training_datagen.flow_from_directory(\n",
    "                    'data/train',\n",
    "                    target_size = (24,24),\n",
    "                    color_mode=\"grayscale\",\n",
    "                    batch_size = 32,\n",
    "                    class_mode = 'binary')"
   ]
  },
  {
   "cell_type": "markdown",
   "id": "063f5cf6",
   "metadata": {},
   "source": [
    "## Preprocessing the test set"
   ]
  },
  {
   "cell_type": "code",
   "execution_count": null,
   "id": "e0618818",
   "metadata": {},
   "outputs": [],
   "source": [
    "test_datagen = ImageDataGenerator(rescale = 1./255)\n",
    "test_set = test_datagen.flow_from_directory(\n",
    "           'data/valid',\n",
    "            target_size = (24,24),\n",
    "            color_mode=\"grayscale\",\n",
    "            batch_size = 32,\n",
    "            class_mode = 'binary')"
   ]
  },
  {
   "cell_type": "markdown",
   "id": "d798dfc7",
   "metadata": {},
   "source": [
    "# Part 2 - Building CNN"
   ]
  },
  {
   "cell_type": "markdown",
   "id": "cb28911d",
   "metadata": {},
   "source": [
    "## Initialising the CNN "
   ]
  },
  {
   "cell_type": "code",
   "execution_count": null,
   "id": "d6f83c0d",
   "metadata": {},
   "outputs": [],
   "source": [
    "cnn = tf.keras.models.Sequential()"
   ]
  },
  {
   "cell_type": "markdown",
   "id": "873cf22b",
   "metadata": {},
   "source": [
    "## Step 1-Convolution "
   ]
  },
  {
   "cell_type": "code",
   "execution_count": null,
   "id": "bd22e721",
   "metadata": {},
   "outputs": [],
   "source": [
    "cnn.add(tf.keras.layers.Conv2D(filters=32, kernel_size=3, activation='relu',\n",
    "                                   input_shape=[24,24,1]))"
   ]
  },
  {
   "cell_type": "markdown",
   "id": "01998a58",
   "metadata": {},
   "source": [
    "## Step 2-Pooling"
   ]
  },
  {
   "cell_type": "code",
   "execution_count": null,
   "id": "379c0c04",
   "metadata": {},
   "outputs": [],
   "source": [
    "cnn.add(tf.keras.layers.MaxPool2D(pool_size=2, strides=2))"
   ]
  },
  {
   "cell_type": "markdown",
   "id": "05ffe552",
   "metadata": {},
   "source": [
    "### Adding a second convolutional layer"
   ]
  },
  {
   "cell_type": "code",
   "execution_count": null,
   "id": "d7d6697d",
   "metadata": {},
   "outputs": [],
   "source": [
    "cnn.add(tf.keras.layers.Conv2D(filters=32, kernel_size=3, activation='relu'))\n",
    "cnn.add(tf.keras.layers.MaxPool2D(pool_size=2, strides=2))"
   ]
  },
  {
   "cell_type": "markdown",
   "id": "bb0a29af",
   "metadata": {},
   "source": [
    "## Step 3-Flattening"
   ]
  },
  {
   "cell_type": "code",
   "execution_count": null,
   "id": "b1bd7daa",
   "metadata": {},
   "outputs": [],
   "source": [
    "cnn.add(tf.keras.layers.Flatten())"
   ]
  },
  {
   "cell_type": "markdown",
   "id": "67e4c172",
   "metadata": {},
   "source": [
    "## Step 4- Full Connection"
   ]
  },
  {
   "cell_type": "code",
   "execution_count": null,
   "id": "8f19b1d5",
   "metadata": {},
   "outputs": [],
   "source": [
    "cnn.add(tf.keras.layers.Dense(units=128, activation='relu'))"
   ]
  },
  {
   "cell_type": "markdown",
   "id": "4f321ee1",
   "metadata": {},
   "source": [
    "## Step 5-Output Layer"
   ]
  },
  {
   "cell_type": "code",
   "execution_count": null,
   "id": "40b4d461",
   "metadata": {},
   "outputs": [],
   "source": [
    "cnn.add(tf.keras.layers.Dense(units=1, activation='sigmoid'))\n",
    "# sigmoid for binary and softmax for multi"
   ]
  },
  {
   "cell_type": "markdown",
   "id": "45923538",
   "metadata": {},
   "source": [
    "# Training the CNN"
   ]
  },
  {
   "cell_type": "markdown",
   "id": "6e990b26",
   "metadata": {},
   "source": [
    "## Compiling the CNN"
   ]
  },
  {
   "cell_type": "code",
   "execution_count": null,
   "id": "babf79fb",
   "metadata": {},
   "outputs": [],
   "source": [
    "cnn.compile(optimizer='adam', loss='binary_crossentropy', metrics=['accuracy'])"
   ]
  },
  {
   "cell_type": "markdown",
   "id": "38bebb54",
   "metadata": {},
   "source": [
    "## Training the CNN on the training set and evaluating  on test set "
   ]
  },
  {
   "cell_type": "code",
   "execution_count": null,
   "id": "aeadf63a",
   "metadata": {},
   "outputs": [],
   "source": [
    "import keras.utils\n",
    "cnn.fit(x = training_set, validation_data=test_set, epochs=15)"
   ]
  },
  {
   "cell_type": "markdown",
   "id": "73c4a9f4",
   "metadata": {},
   "source": [
    "## Making a single prediction "
   ]
  },
  {
   "cell_type": "code",
   "execution_count": null,
   "id": "99b112c7",
   "metadata": {},
   "outputs": [],
   "source": [
    "import numpy as np\n",
    "##from keras.preprocessing.image import load_img\n",
    "test_img = tf.keras.utils.load_img('open3.jpg',target_size=(24,24),\n",
    "                                           color_mode=\"grayscale\")\n",
    "test_img = tf.keras.utils.img_to_array(test_img)\n",
    "test_img = np.expand_dims(test_img, axis=0)\n",
    "result = cnn.predict(test_img)\n",
    "training_set.class_indices\n",
    "if result[0][0] == 1:\n",
    "    prediction = 'open eyes'\n",
    "else:\n",
    "    prediction = 'closed eyes'\n",
    "print(prediction)"
   ]
  },
  {
   "cell_type": "markdown",
   "id": "b0466365",
   "metadata": {},
   "source": [
    "## Saving the Model "
   ]
  },
  {
   "cell_type": "code",
   "execution_count": null,
   "id": "7e6ca498",
   "metadata": {},
   "outputs": [],
   "source": [
    "cnn.save('models/cnnabcd.h5', overwrite=True)"
   ]
  }
 ],
 "metadata": {
  "kernelspec": {
   "display_name": "Python 3 (ipykernel)",
   "language": "python",
   "name": "python3"
  },
  "language_info": {
   "codemirror_mode": {
    "name": "ipython",
    "version": 3
   },
   "file_extension": ".py",
   "mimetype": "text/x-python",
   "name": "python",
   "nbconvert_exporter": "python",
   "pygments_lexer": "ipython3",
   "version": "3.10.9"
  }
 },
 "nbformat": 4,
 "nbformat_minor": 5
}
